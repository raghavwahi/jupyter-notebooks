{
 "cells": [
  {
   "cell_type": "code",
   "execution_count": 45,
   "id": "3c38dae3",
   "metadata": {},
   "outputs": [],
   "source": [
    "import pandas as pd\n",
    "import random\n",
    "import calendar\n",
    "\n",
    "ids = ['aa_'+str(x) for x in range(1, 10001)]\n",
    "\n",
    "year = 2020\n",
    "ld_months = [str(calendar.monthrange(year, x)[1]) + '/' + str(x) + '/' + str(year) for x in range(1, 13)]\n",
    "\n",
    "def get_1_choice():\n",
    "    str_ls = ['Capital Repayment', 'Interest Only', 'Offset']\n",
    "    return random.choice(str_ls)\n",
    "\n",
    "summary_level_2 = ['OO_RG_' + str(x) for x in range(1, 10001)]\n",
    "\n",
    "def get_3_choice():\n",
    "    str_ls = ['Owner occupied', 'Buy To Let']\n",
    "    return random.choice(str_ls)\n",
    "\n",
    "for month in months:\n",
    "    df = pd.DataFrame({\n",
    "        'id': ids,\n",
    "        'mth': [month for x in range(1, 10001)],\n",
    "        'summary_level_1': [get_1_choice() for x in range(1, 10001)],\n",
    "        'summary_level_2': summary_level_2,\n",
    "        'summary_level_3': [get_3_choice() for x in range(1, 10001)]\n",
    "    })\n",
    "    df.to_csv('datasets\\\\' + '_'.join(month.split('/')) + '.csv', index=False)"
   ]
  },
  {
   "cell_type": "code",
   "execution_count": null,
   "id": "26e627b4",
   "metadata": {},
   "outputs": [],
   "source": []
  }
 ],
 "metadata": {
  "kernelspec": {
   "display_name": "Python 3 (ipykernel)",
   "language": "python",
   "name": "python3"
  },
  "language_info": {
   "codemirror_mode": {
    "name": "ipython",
    "version": 3
   },
   "file_extension": ".py",
   "mimetype": "text/x-python",
   "name": "python",
   "nbconvert_exporter": "python",
   "pygments_lexer": "ipython3",
   "version": "3.10.5"
  }
 },
 "nbformat": 4,
 "nbformat_minor": 5
}
