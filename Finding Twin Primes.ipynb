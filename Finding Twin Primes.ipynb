{
 "cells": [
  {
   "cell_type": "code",
   "execution_count": 2,
   "id": "47501eb0",
   "metadata": {},
   "outputs": [],
   "source": [
    "def get_primes(n):\n",
    "    num_list = [x for x in range(2, n + 1)]\n",
    "    \n",
    "    for i in range(len(num_list)):\n",
    "        num = num_list[i]\n",
    "        if num * num >= n:\n",
    "            break\n",
    "        if num == 0:\n",
    "            continue\n",
    "            \n",
    "        for j in range(i+1, len(num_list[i+1:]) + 1):\n",
    "            if num_list[j] % num == 0:\n",
    "                num_list[j] = 0\n",
    "    \n",
    "    num_list = [x for x in num_list if x != 0]\n",
    "    \n",
    "    return num_list"
   ]
  },
  {
   "cell_type": "code",
   "execution_count": 3,
   "id": "015b61b1",
   "metadata": {},
   "outputs": [],
   "source": [
    "def get_twin_primes(primes):\n",
    "    ls = []\n",
    "    for i in range(len(primes) - 1):\n",
    "        if primes[i] + 2 == primes[i + 1]:\n",
    "            ls.append((primes[i], primes[i + 1]))\n",
    "    return ls"
   ]
  },
  {
   "cell_type": "code",
   "execution_count": 5,
   "id": "1dd1cdfe",
   "metadata": {},
   "outputs": [],
   "source": [
    "primes = get_primes(100000)\n",
    "twin_primes = get_twin_primes(primes)"
   ]
  },
  {
   "cell_type": "code",
   "execution_count": null,
   "id": "2b037752",
   "metadata": {},
   "outputs": [],
   "source": []
  }
 ],
 "metadata": {
  "kernelspec": {
   "display_name": "Python 3 (ipykernel)",
   "language": "python",
   "name": "python3"
  },
  "language_info": {
   "codemirror_mode": {
    "name": "ipython",
    "version": 3
   },
   "file_extension": ".py",
   "mimetype": "text/x-python",
   "name": "python",
   "nbconvert_exporter": "python",
   "pygments_lexer": "ipython3",
   "version": "3.10.5"
  }
 },
 "nbformat": 4,
 "nbformat_minor": 5
}
