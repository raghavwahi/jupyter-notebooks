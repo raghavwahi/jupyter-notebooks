{
 "cells": [
  {
   "cell_type": "code",
   "execution_count": 36,
   "id": "14599af9",
   "metadata": {},
   "outputs": [
    {
     "data": {
      "text/plain": [
       "1994"
      ]
     },
     "execution_count": 36,
     "metadata": {},
     "output_type": "execute_result"
    }
   ],
   "source": [
    "class Solution:\n",
    "    def romanToInt(self, s: str) -> int:\n",
    "        num_map = {'I' : 1, 'V': 5, 'X': 10, 'L': 50, 'C': 100, 'D': 500, 'M': 1000}\n",
    "\n",
    "        i = len(s) - 1\n",
    "        output = 0\n",
    "        while i >= 0:\n",
    "            if s[i] in ['M', 'D']:\n",
    "                output += num_map[s[i]]\n",
    "                if i != 0 and s[i - 1] == 'C':\n",
    "                    output -= num_map[s[i - 1]]\n",
    "                    i -= 1\n",
    "            elif s[i] in ['C', 'L']:\n",
    "                output += num_map[s[i]]\n",
    "                if i != 0 and s[i - 1] == 'X':\n",
    "                    output -= num_map[s[i - 1]]\n",
    "                    i -= 1\n",
    "            elif s[i] in ['X', 'V']:\n",
    "                output += num_map[s[i]]\n",
    "                if i != 0 and s[i - 1] == 'I':\n",
    "                    output -= num_map[s[i - 1]]\n",
    "                    i -= 1\n",
    "            elif s[i] == 'I':\n",
    "                output += num_map[s[i]]\n",
    "            i -= 1\n",
    "\n",
    "        return output        \n",
    "            \n",
    "s = Solution()\n",
    "s.romanToInt(\"MCMXCIV\")"
   ]
  },
  {
   "cell_type": "code",
   "execution_count": 49,
   "id": "6c049b17",
   "metadata": {},
   "outputs": [
    {
     "data": {
      "text/plain": [
       "'c'"
      ]
     },
     "execution_count": 49,
     "metadata": {},
     "output_type": "execute_result"
    }
   ],
   "source": [
    "def longestCommonSubstring(strs):\n",
    "        char_map = {}\n",
    "        temp_str = ''.join(strs)\n",
    "        for char in temp_str:\n",
    "            if char in char_map.keys():\n",
    "                char_map[char] += 1\n",
    "            else:\n",
    "                char_map[char] = 1\n",
    "        \n",
    "        out_str = ''\n",
    "        for key, value in char_map.items():\n",
    "            if value == len(strs) and key in strs[0]:\n",
    "                if out_str + key in strs[0]:\n",
    "                    out_str += key        \n",
    "        \n",
    "        return out_str\n",
    "    \n",
    "longestCommonSubstring(['cir', 'car'])"
   ]
  },
  {
   "cell_type": "code",
   "execution_count": 51,
   "id": "f196100b",
   "metadata": {},
   "outputs": [
    {
     "data": {
      "text/plain": [
       "''"
      ]
     },
     "execution_count": 51,
     "metadata": {},
     "output_type": "execute_result"
    }
   ],
   "source": [
    "def longestCommonPrefix(strs):\n",
    "    min_length = len(strs[0])\n",
    "    for item in strs[1:]:\n",
    "        if len(item) < min_length:\n",
    "            min_length = len(item)\n",
    "\n",
    "    while min_length >= 0:\n",
    "        strs = [item[: min_length + 1] for item in strs]\n",
    "        if len(set(strs)) == 1:\n",
    "            return strs[0]\n",
    "        min_length -= 1\n",
    "\n",
    "    return \"\"\n",
    "\n",
    "longestCommonPrefix([\"\"])"
   ]
  },
  {
   "cell_type": "code",
   "execution_count": null,
   "id": "696ac348",
   "metadata": {},
   "outputs": [],
   "source": []
  }
 ],
 "metadata": {
  "kernelspec": {
   "display_name": "Python 3 (ipykernel)",
   "language": "python",
   "name": "python3"
  },
  "language_info": {
   "codemirror_mode": {
    "name": "ipython",
    "version": 3
   },
   "file_extension": ".py",
   "mimetype": "text/x-python",
   "name": "python",
   "nbconvert_exporter": "python",
   "pygments_lexer": "ipython3",
   "version": "3.10.5"
  }
 },
 "nbformat": 4,
 "nbformat_minor": 5
}
