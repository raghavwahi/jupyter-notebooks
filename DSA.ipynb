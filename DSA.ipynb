{
 "cells": [
  {
   "cell_type": "markdown",
   "id": "b03b7eed",
   "metadata": {},
   "source": [
    "## Frequency Counter"
   ]
  },
  {
   "cell_type": "code",
   "execution_count": 27,
   "id": "5f8c2e13",
   "metadata": {},
   "outputs": [
    {
     "name": "stdout",
     "output_type": "stream",
     "text": [
      "True\n",
      "False\n",
      "False\n"
     ]
    }
   ],
   "source": [
    "def same(arr1, arr2):\n",
    "    # Check if  length of arrays is same or not\n",
    "    if len(arr1) != len(arr2):\n",
    "        return False\n",
    "    \n",
    "    frequency_counter1 = {}\n",
    "    frequency_counter2 = {}\n",
    "    \n",
    "    for item in arr1:\n",
    "        frequency_counter1[item] = frequency_counter1[item] + 1 if item in frequency_counter1.keys() else 1\n",
    "        \n",
    "    for item in arr2:\n",
    "        frequency_counter2[item] = frequency_counter2[item] + 1 if item in frequency_counter2.keys() else 1\n",
    "        \n",
    "    for key, value in frequency_counter1.items():\n",
    "        if key**2 not in frequency_counter2.keys():\n",
    "            return False\n",
    "        if frequency_counter2[key**2] != value:\n",
    "            return False\n",
    "    return True\n",
    "\n",
    "print(same([1,2,3], [4,1,9]))\n",
    "print(same([1,2,3], [1,9]))\n",
    "print(same([1,2,1], [4,4,1]))"
   ]
  },
  {
   "cell_type": "code",
   "execution_count": 38,
   "id": "65ac0c22",
   "metadata": {},
   "outputs": [
    {
     "name": "stdout",
     "output_type": "stream",
     "text": [
      "True\n",
      "True\n",
      "True\n",
      "False\n",
      "False\n",
      "True\n",
      "True\n"
     ]
    }
   ],
   "source": [
    "def anagrams(str1, str2):\n",
    "    if len(str1) != len(str2):\n",
    "        return False\n",
    "\n",
    "    obj1 = {}\n",
    "    \n",
    "    for item in str1:\n",
    "        obj1[item] = obj1[item] + 1 if item in obj1.keys() else 1\n",
    "        \n",
    "    for item in str2:\n",
    "        if item not in obj1:\n",
    "            return False\n",
    "        else:\n",
    "            obj1[item] -= 1    \n",
    "    return True\n",
    "\n",
    "print(anagrams('', ''))\n",
    "print(anagrams('aaz', 'zza'))\n",
    "print(anagrams('anagram', 'nagaram'))\n",
    "print(anagrams('rat', 'car'))\n",
    "print(anagrams('awesome', 'awesom'))\n",
    "print(anagrams('qwerty', 'qeywrt'))\n",
    "print(anagrams('texttwisttime', 'timetwisttext'))\n"
   ]
  },
  {
   "cell_type": "markdown",
   "id": "2182d05b",
   "metadata": {},
   "source": [
    "## Multiple Pointers"
   ]
  },
  {
   "cell_type": "code",
   "execution_count": null,
   "id": "22d84490",
   "metadata": {},
   "outputs": [],
   "source": []
  }
 ],
 "metadata": {
  "kernelspec": {
   "display_name": "Python 3 (ipykernel)",
   "language": "python",
   "name": "python3"
  },
  "language_info": {
   "codemirror_mode": {
    "name": "ipython",
    "version": 3
   },
   "file_extension": ".py",
   "mimetype": "text/x-python",
   "name": "python",
   "nbconvert_exporter": "python",
   "pygments_lexer": "ipython3",
   "version": "3.10.5"
  }
 },
 "nbformat": 4,
 "nbformat_minor": 5
}
