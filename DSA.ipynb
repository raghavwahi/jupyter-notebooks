{
 "cells": [
  {
   "cell_type": "markdown",
   "id": "b03b7eed",
   "metadata": {},
   "source": [
    "## Frequency Counter"
   ]
  },
  {
   "cell_type": "code",
   "execution_count": null,
   "id": "5f8c2e13",
   "metadata": {},
   "outputs": [],
   "source": [
    "def same(arr1, arr2):\n",
    "    # Check if  length of arrays is same or not\n",
    "    if len(arr1) != len(arr2):\n",
    "        return False\n",
    "    \n",
    "    frequency_counter1 = {}\n",
    "    frequency_counter2 = {}\n",
    "    \n",
    "    for item in arr1:\n",
    "        frequency_counter1[item] = frequency_counter1[item] + 1 if item in frequency_counter1.keys() else 1\n",
    "        \n",
    "    for item in arr2:\n",
    "        frequency_counter2[item] = frequency_counter2[item] + 1 if item in frequency_counter2.keys() else 1\n",
    "        \n",
    "    for key, value in frequency_counter1.items():\n",
    "        if key**2 not in frequency_counter2.keys():\n",
    "            return False\n",
    "        if frequency_counter2[key**2] != value:\n",
    "            return False\n",
    "    return True\n",
    "\n",
    "print(same([1,2,3], [4,1,9]))\n",
    "print(same([1,2,3], [1,9]))\n",
    "print(same([1,2,1], [4,4,1]))"
   ]
  },
  {
   "cell_type": "code",
   "execution_count": null,
   "id": "65ac0c22",
   "metadata": {},
   "outputs": [],
   "source": [
    "def anagrams(str1, str2):\n",
    "    if len(str1) != len(str2):\n",
    "        return False\n",
    "\n",
    "    obj1 = {}\n",
    "    \n",
    "    for item in str1:\n",
    "        obj1[item] = obj1[item] + 1 if item in obj1.keys() else 1\n",
    "        \n",
    "    for item in str2:\n",
    "        if item not in obj1:\n",
    "            return False\n",
    "        else:\n",
    "            obj1[item] -= 1    \n",
    "    return True\n",
    "\n",
    "print(anagrams('', ''))\n",
    "print(anagrams('aaz', 'zza'))\n",
    "print(anagrams('anagram', 'nagaram'))\n",
    "print(anagrams('rat', 'car'))\n",
    "print(anagrams('awesome', 'awesom'))\n",
    "print(anagrams('qwerty', 'qeywrt'))\n",
    "print(anagrams('texttwisttime', 'timetwisttext'))\n"
   ]
  },
  {
   "cell_type": "markdown",
   "id": "2182d05b",
   "metadata": {},
   "source": [
    "## Multiple Pointers"
   ]
  },
  {
   "cell_type": "code",
   "execution_count": null,
   "id": "22d84490",
   "metadata": {},
   "outputs": [],
   "source": [
    "def sum_zero(ls):\n",
    "    output = []\n",
    "    i = 0\n",
    "    j = len(ls) - 1\n",
    "    \n",
    "    while i < j:\n",
    "        curr_sum = ls[i] + ls[j]\n",
    "        if curr_sum == 0:\n",
    "            output.append((ls[i], ls[j]))\n",
    "            i += 1\n",
    "            j -= 1\n",
    "        elif curr_sum > 0:\n",
    "            j -= 1\n",
    "        else:\n",
    "            i += 1\n",
    "\n",
    "    return output\n",
    "sum_zero([-4,-3,-2,-1,0,1,2,5])"
   ]
  },
  {
   "cell_type": "code",
   "execution_count": null,
   "id": "f73e862a",
   "metadata": {
    "scrolled": true
   },
   "outputs": [],
   "source": [
    "def count_unique_items(ls):\n",
    "    if not len(ls):\n",
    "        return 0\n",
    "    i = 0\n",
    "    j = 1\n",
    "    \n",
    "    while j < len(ls):\n",
    "        if ls[i] != ls[j]:\n",
    "            i += 1\n",
    "            ls[i] = ls[j]\n",
    "        j+= 1\n",
    "        \n",
    "    return i+1\n",
    "\n",
    "print(count_unique_items([1,1,1,1,2]))\n",
    "print(count_unique_items([1,2,3,4,4,4,7,7,12,12,13]))\n",
    "print(count_unique_items([]))\n",
    "print(count_unique_items([-2,-1,-1,0,1]))"
   ]
  },
  {
   "cell_type": "markdown",
   "id": "2330373e",
   "metadata": {},
   "source": [
    "## Sliding Window"
   ]
  },
  {
   "cell_type": "code",
   "execution_count": null,
   "id": "1f5967ea",
   "metadata": {},
   "outputs": [],
   "source": [
    "def max_sub_array_sum(arr, window):\n",
    "    if len(arr) < window:\n",
    "        return None\n",
    "    \n",
    "    max_sum = arr[0]\n",
    "    for index in range(1, window):\n",
    "        max_sum += arr[index]\n",
    "\n",
    "    temp_sum = max_sum\n",
    "    for index in range(window, len(arr)):\n",
    "        temp_sum = temp_sum - arr[index - window] + arr[index]\n",
    "        if temp_sum > max_sum:\n",
    "            max_sum = temp_sum\n",
    "    return max_sum\n",
    "\n",
    "print(max_sub_array_sum([2,6,9,2,1,8,5,6,3], 3))"
   ]
  },
  {
   "cell_type": "markdown",
   "id": "66d90f13",
   "metadata": {},
   "source": [
    "## Divide and Conquer\n",
    "\n",
    "Example is binary search."
   ]
  },
  {
   "cell_type": "markdown",
   "id": "33709121",
   "metadata": {},
   "source": [
    "## Problems (Solved)"
   ]
  },
  {
   "cell_type": "code",
   "execution_count": null,
   "id": "ba5dd2da",
   "metadata": {},
   "outputs": [],
   "source": [
    "def same_frequency(num1, num2):\n",
    "    str1 = str(num1).replace(\".\", \"\")\n",
    "    str2 = str(num2).replace(\".\", \"\")\n",
    "    \n",
    "    if len(str1) != len(str2):\n",
    "        return False;\n",
    "    \n",
    "    diff = 0\n",
    "    for index, item in enumerate(str1):\n",
    "        diff += int(item) - int(str2[index])\n",
    "        \n",
    "    if diff != 0:\n",
    "        return False\n",
    "    \n",
    "    return True\n",
    "\n",
    "print(same_frequency(182, 281))\n",
    "print(same_frequency(34, 41))\n",
    "print(same_frequency(3589578, 5879385))\n",
    "print(same_frequency(22, 222))"
   ]
  },
  {
   "cell_type": "code",
   "execution_count": null,
   "id": "b84b66ff",
   "metadata": {},
   "outputs": [],
   "source": [
    "def are_there_duplicates(*args):\n",
    "#     Frequency counter pattern\n",
    "    counts = {}\n",
    "    for arg in args:\n",
    "        if arg in counts.keys():\n",
    "            return True\n",
    "        else:\n",
    "            counts[arg] = 1\n",
    "    return False\n",
    "\n",
    "#     Multiple pointers pattern\n",
    "#     arr = [*args]\n",
    "#     arr.sort()\n",
    "#     i = 0\n",
    "#     j = 1\n",
    "#     while(j < len(arr)):\n",
    "#         if arr[i] == arr[j]:\n",
    "#             return True\n",
    "#         i += 1\n",
    "#         j += 1\n",
    "#     return False\n",
    "print(are_there_duplicates(1,2,3))\n",
    "print(are_there_duplicates(1,2,2))\n",
    "print(are_there_duplicates('a', 'b', 'd', 'c'))"
   ]
  },
  {
   "cell_type": "code",
   "execution_count": null,
   "id": "e1d6dfe6",
   "metadata": {},
   "outputs": [],
   "source": [
    "def average_pair(arr, average):\n",
    "    if not len(arr):\n",
    "        return False\n",
    "    \n",
    "    i = 0\n",
    "    j = 1\n",
    "    \n",
    "    while ((arr[i] + arr[j]) / 2 <= average):\n",
    "        \n",
    "        if (arr[i] + arr[j]) / 2 == average:\n",
    "            return True\n",
    "        \n",
    "        if j+1 < len(arr) and (arr[i] + arr[j+1]) / 2 <= average:\n",
    "            j += 1\n",
    "        else:\n",
    "            i += 1\n",
    "            j = i+1\n",
    "        \n",
    "        curr_average = (arr[i] + arr[j]) / 2\n",
    "    \n",
    "    return False\n",
    "\n",
    "\n",
    "#     Another approach\n",
    "#     if not len(arr):\n",
    "#         return False\n",
    "    \n",
    "#     i = 0\n",
    "#     j = len(arr) - 1\n",
    "    \n",
    "#     while(i < j):\n",
    "#         curr_average = (arr[i] + arr[j]) / 2\n",
    "#         if curr_average == average:\n",
    "#             return True\n",
    "#         if curr_average < average:\n",
    "#             i += 1\n",
    "#         else:\n",
    "#             j -= 1\n",
    "#     return False\n",
    "\n",
    "print(average_pair([1,2,3],2.5))\n",
    "print(average_pair([1,3,3,5,6,7,10,12,19],8))\n",
    "print(average_pair([-1,0,3,4,5,6], 4.1))\n",
    "print(average_pair([],4))"
   ]
  },
  {
   "cell_type": "code",
   "execution_count": null,
   "id": "016cedc9",
   "metadata": {},
   "outputs": [],
   "source": [
    "def is_subsequence(sub_string, string):\n",
    "#     Iterative apprach\n",
    "    if len(sub_string) > len(string):\n",
    "        return False\n",
    "    \n",
    "    if not len(sub_string):\n",
    "        return True\n",
    "    \n",
    "    i = 0  # Index for string\n",
    "    j = 0  # Index for sub_string\n",
    "    \n",
    "    while(j < len(string)):\n",
    "        if string[j] == sub_string[i]:\n",
    "            i += 1\n",
    "            if i == len(sub_string):\n",
    "                return True\n",
    "        j += 1\n",
    "    return False\n",
    "\n",
    "print(is_subsequence('hello', 'hello world'))\n",
    "print(is_subsequence('sing', 'sting'))\n",
    "print(is_subsequence('abc', 'abracadabra'))\n",
    "print(is_subsequence('abc', 'acb'))"
   ]
  },
  {
   "cell_type": "code",
   "execution_count": null,
   "id": "ad29b534",
   "metadata": {},
   "outputs": [],
   "source": [
    "def max_subarray_sum(arr, nums):\n",
    "    if nums > len(arr):\n",
    "        total = 0\n",
    "        for item in arr:\n",
    "            total += item\n",
    "        return total\n",
    "    \n",
    "    max_sum = 0\n",
    "    for i in range(0, nums):\n",
    "        max_sum += arr[i]\n",
    "        \n",
    "    temp_sum = max_sum\n",
    "    for i in range(1, len(arr) - nums + 1):\n",
    "        temp_sum = temp_sum - arr[i - 1] + arr[i - 1 + nums]\n",
    "        if temp_sum > max_sum:\n",
    "            max_sum = temp_sum\n",
    "            \n",
    "    return max_sum\n",
    "\n",
    "print(max_subarray_sum([100,200,300,400], 2))\n",
    "print(max_subarray_sum([1,4,2,10,23,3,1,0,20], 4)) \n",
    "print(max_subarray_sum([-3,4,0,-2,6,-1], 2))\n",
    "print(max_subarray_sum([3,-2,7,-4,1,-1,4,-2,1],2))\n",
    "print(max_subarray_sum([2,3], 3))"
   ]
  },
  {
   "cell_type": "code",
   "execution_count": null,
   "id": "31beac1f",
   "metadata": {},
   "outputs": [],
   "source": [
    "def min_sub_array_len(arr, max_sum):\n",
    "    if not len(arr):\n",
    "        return 0\n",
    "    \n",
    "    # Check if sum of arr is less than max_sum. There is no point to further find sub array lengths.\n",
    "    temp_sum = 0\n",
    "    for item in arr:\n",
    "        # if item is greater than or equals to max_sum, minimum sub array length would be 1.\n",
    "        if item >= max_sum:\n",
    "            return 1\n",
    "        temp_sum += item\n",
    "    if temp_sum < max_sum:\n",
    "        return 0\n",
    "    \n",
    "    i = 0\n",
    "    j = 1\n",
    "    curr_len = len(arr)  # Initial assumption that sub array length would be equal to arr length\n",
    "    temp_sum = arr[i]\n",
    "    while j < len(arr):\n",
    "        temp_sum += arr[j]\n",
    "        if temp_sum >= max_sum:\n",
    "            temp_len = j - i + 1  # Calculate the sub array length (added 1 into the length since we are dealing with indices)\n",
    "            if temp_len < curr_len:\n",
    "                curr_len = temp_len  # Keep a track of current minimal sub array length\n",
    "            i += 1\n",
    "            j = i + 1\n",
    "            temp_sum = arr[i]\n",
    "        else:\n",
    "            j += 1\n",
    "    return curr_len\n",
    "\n",
    "print(min_sub_array_len([2,3,1,2,4,3], 7))\n",
    "print(min_sub_array_len([2,1,6,5,4], 9))\n",
    "print(min_sub_array_len([3,1,7,11,2,9,8,21,62,33,19], 52))\n",
    "print(min_sub_array_len([1,4,16,22,5,7,8,9,10],39))\n",
    "print(min_sub_array_len([1,4,16,22,5,7,8,9,10],55))\n",
    "print(min_sub_array_len([4, 3, 3, 8, 1, 2, 3], 11))\n",
    "print(min_sub_array_len([1,4,16,22,5,7,8,9,10],95))"
   ]
  },
  {
   "cell_type": "code",
   "execution_count": null,
   "id": "f7e6706a",
   "metadata": {},
   "outputs": [],
   "source": [
    "def find_longest_substring(string):\n",
    "    curr_holder = {}\n",
    "    max_length = 0\n",
    "    i = 0\n",
    "    \n",
    "    while i < len(string):\n",
    "        char = string[i]\n",
    "        if char in curr_holder.keys():\n",
    "            max_length = len(curr_holder.keys()) if len(curr_holder.keys()) > max_length else max_length\n",
    "            i = curr_holder[char] + 1\n",
    "            curr_holder = {}\n",
    "        else:\n",
    "            curr_holder[char] = i\n",
    "            i += 1\n",
    "        \n",
    "    return len(curr_holder.keys()) if len(curr_holder.keys()) > max_length else max_length \n",
    "\n",
    "print(find_longest_substring(''))\n",
    "print(find_longest_substring('rithmschool'))\n",
    "print(find_longest_substring('thisisawesome'))\n",
    "print(find_longest_substring('thecatinthehat'))\n",
    "print(find_longest_substring('bbbbbb'))\n",
    "print(find_longest_substring('longestsubstring'))\n",
    "print(find_longest_substring('thisishowwedoit'))"
   ]
  },
  {
   "cell_type": "markdown",
   "id": "5707c370",
   "metadata": {},
   "source": [
    "# Recursion"
   ]
  },
  {
   "cell_type": "code",
   "execution_count": null,
   "id": "4f78dcda",
   "metadata": {},
   "outputs": [],
   "source": [
    "def sum_range(num):\n",
    "    if num == 1:\n",
    "        return 1\n",
    "    \n",
    "    return num + sum_range(num - 1)\n",
    "\n",
    "sum_range(3)"
   ]
  },
  {
   "cell_type": "code",
   "execution_count": null,
   "id": "fe0fddf0",
   "metadata": {},
   "outputs": [],
   "source": [
    "def factorial(num):\n",
    "    if num == 0:\n",
    "        return 1\n",
    "    \n",
    "    return num * factorial(num - 1)\n",
    "\n",
    "factorial(3)"
   ]
  },
  {
   "cell_type": "markdown",
   "id": "cf3b9467",
   "metadata": {},
   "source": [
    "## Helper Recursion"
   ]
  },
  {
   "cell_type": "code",
   "execution_count": null,
   "id": "f4625b83",
   "metadata": {},
   "outputs": [],
   "source": [
    "def collect_odds(arr):\n",
    "    output = []\n",
    "    \n",
    "    def helper(arr):\n",
    "        if not len(arr):\n",
    "            return\n",
    "        \n",
    "        if arr[0] % 2 != 0:\n",
    "            output.append(arr[0])\n",
    "            \n",
    "        helper(arr[1:])\n",
    "        \n",
    "    helper(arr)\n",
    "    \n",
    "    return output\n",
    "\n",
    "\n",
    "collect_odds([x for x in range(10)])"
   ]
  },
  {
   "cell_type": "markdown",
   "id": "aed3fc7f",
   "metadata": {},
   "source": [
    "## Without Helper Recursion"
   ]
  },
  {
   "cell_type": "code",
   "execution_count": null,
   "id": "f676ea3f",
   "metadata": {},
   "outputs": [],
   "source": [
    "def collect_odds(arr):\n",
    "    if not arr:\n",
    "        return []\n",
    "    \n",
    "    output = []\n",
    "    if arr[0] % 2 != 0:\n",
    "        output.append(arr[0])\n",
    "    \n",
    "    output.extend(collect_odds(arr[1:]))\n",
    "    return output\n",
    "    \n",
    "print(collect_odds([x for x in range(20)]))"
   ]
  },
  {
   "cell_type": "markdown",
   "id": "9fe65d2f",
   "metadata": {},
   "source": [
    "## Problems (Solved)"
   ]
  },
  {
   "cell_type": "code",
   "execution_count": null,
   "id": "443bff75",
   "metadata": {},
   "outputs": [],
   "source": [
    "def power(base, exp):\n",
    "    if exp == 0:\n",
    "        return 1\n",
    "    \n",
    "    return base * power(base, exp - 1)\n",
    "\n",
    "print(power(2,0))\n",
    "print(power(2,2))\n",
    "print(power(2,4))"
   ]
  },
  {
   "cell_type": "code",
   "execution_count": null,
   "id": "c351ae2c",
   "metadata": {},
   "outputs": [],
   "source": [
    "def factorial(num):\n",
    "    if num < 0:\n",
    "        return 0\n",
    "\n",
    "    if num <= 1:\n",
    "        return 1\n",
    "    \n",
    "    return num * factorial(num - 1)\n",
    "\n",
    "print(factorial(4))\n",
    "print(factorial(3))"
   ]
  },
  {
   "cell_type": "code",
   "execution_count": 26,
   "id": "37fe4832",
   "metadata": {},
   "outputs": [
    {
     "name": "stdout",
     "output_type": "stream",
     "text": [
      "6\n",
      "0\n"
     ]
    }
   ],
   "source": [
    "def product_of_array(arr):\n",
    "    if not arr:\n",
    "        return 1\n",
    "    \n",
    "    if not arr[0]:  # If digit is 0 no need of further recursive calls\n",
    "        return 0\n",
    "    \n",
    "    return arr[0] * product_of_array(arr[1:])\n",
    "\n",
    "print(product_of_array([1,2,3]))\n",
    "print(product_of_array([1,2,0,3]))"
   ]
  },
  {
   "cell_type": "code",
   "execution_count": 13,
   "id": "2c4d3dac",
   "metadata": {},
   "outputs": [
    {
     "name": "stdout",
     "output_type": "stream",
     "text": [
      "10\n",
      "-6\n",
      "0\n"
     ]
    }
   ],
   "source": [
    "def recursive_range(num):\n",
    "    if num == 0:\n",
    "        return 0\n",
    "    \n",
    "    if num > 0:\n",
    "        return num + recursive_range(num - 1)  # If given number is a +ve integer.\n",
    "    \n",
    "    return num + recursive_range(num + 1)  # If given number is a -ve integer.\n",
    "\n",
    "print(recursive_range(4))\n",
    "print(recursive_range(-3))\n",
    "print(recursive_range(0))"
   ]
  },
  {
   "cell_type": "code",
   "execution_count": 24,
   "id": "2c9ce075",
   "metadata": {},
   "outputs": [
    {
     "name": "stdout",
     "output_type": "stream",
     "text": [
      "6765\n"
     ]
    }
   ],
   "source": [
    "def fib(num):\n",
    "    if (num <= 2):\n",
    "        return 1\n",
    "    \n",
    "    return fib(num - 1) + fib(num - 2)\n",
    "\n",
    "\n",
    "print(fib(20))"
   ]
  },
  {
   "cell_type": "code",
   "execution_count": 36,
   "id": "f1a30e5d",
   "metadata": {},
   "outputs": [
    {
     "data": {
      "text/plain": [
       "'odlanor onaitsirc si eman ym ,ih'"
      ]
     },
     "execution_count": 36,
     "metadata": {},
     "output_type": "execute_result"
    }
   ],
   "source": [
    "def reverse(string):\n",
    "    if string == '':\n",
    "        return ''\n",
    "    else:\n",
    "        return string[-1].lower() + reverse(string[:-1])\n",
    "    \n",
    "reverse('Hi, My name is Cristiano ronaldo')"
   ]
  },
  {
   "cell_type": "code",
   "execution_count": 63,
   "id": "65c0e7e0",
   "metadata": {},
   "outputs": [
    {
     "data": {
      "text/plain": [
       "True"
      ]
     },
     "execution_count": 63,
     "metadata": {},
     "output_type": "execute_result"
    }
   ],
   "source": [
    "def is_palindrome(string):\n",
    "    if len(string) <= 1:\n",
    "        return True\n",
    "\n",
    "    if string[0] == string[-1]:\n",
    "        return is_palindrome(string[1:-1])\n",
    "        \n",
    "    return False\n",
    "\n",
    "is_palindrome('saippuakivikauppias')"
   ]
  },
  {
   "cell_type": "code",
   "execution_count": 53,
   "id": "7971bd51",
   "metadata": {},
   "outputs": [
    {
     "name": "stdout",
     "output_type": "stream",
     "text": [
      "True\n",
      "True\n",
      "False\n"
     ]
    }
   ],
   "source": [
    "def some_recursive(arr, func):  # Accepts an array and a func to call on all of the elements. This is a recursive approach.\n",
    "    if not len(arr):\n",
    "        return False\n",
    "    flag = func(arr[0])\n",
    "    if flag:\n",
    "        return True\n",
    "    return some_recursive(arr[1:], func)\n",
    "        \n",
    "\n",
    "def is_odd(num):\n",
    "    return True if num %2 != 0 else False\n",
    "\n",
    "\n",
    "print(some_recursive([1,2,3,4], is_odd))\n",
    "print(some_recursive([4,6,8,9], is_odd))\n",
    "print(some_recursive([4,6,8], is_odd))"
   ]
  },
  {
   "cell_type": "code",
   "execution_count": 64,
   "id": "a35b24db",
   "metadata": {},
   "outputs": [
    {
     "name": "stdout",
     "output_type": "stream",
     "text": [
      "[1, 2, 3, 4, 5]\n",
      "[1, 2, 3, 4, 5]\n",
      "[1, 2, 3]\n",
      "[1, 2, 3]\n"
     ]
    }
   ],
   "source": [
    "def flatten(arr):\n",
    "    if not arr:\n",
    "        return []\n",
    "    \n",
    "    output = []\n",
    "    if type(arr[0]) == list:\n",
    "        output.extend(flatten(arr[0]))\n",
    "    else:\n",
    "        output.append(arr[0])\n",
    "    output.extend(flatten(arr[1:]))\n",
    "    return output\n",
    "    \n",
    "print(flatten([1, 2, 3, [4, 5] ]))\n",
    "print(flatten([1, [2, [3, 4], [[5]]]]))\n",
    "print(flatten([[1],[2],[3]]))\n",
    "print(flatten([[[[1], [[[2]]], [[[[[[[3]]]]]]]]]]))"
   ]
  },
  {
   "cell_type": "code",
   "execution_count": 83,
   "id": "188d8382",
   "metadata": {},
   "outputs": [
    {
     "data": {
      "text/plain": [
       "['Hello', 'There is', ' ']"
      ]
     },
     "execution_count": 83,
     "metadata": {},
     "output_type": "execute_result"
    }
   ],
   "source": [
    "def capitalize_first(arr):\n",
    "    if not len(arr):\n",
    "        return []\n",
    "        \n",
    "    item = arr[0]\n",
    "    item = item[0].upper() + item[1:] if item else item\n",
    "    return [item, *capitalize_first(arr[1:])]\n",
    "\n",
    "capitalize_first(['hello', 'there is', ' '])"
   ]
  },
  {
   "cell_type": "code",
   "execution_count": 75,
   "id": "7e33e7a6",
   "metadata": {},
   "outputs": [
    {
     "data": {
      "text/plain": [
       "6"
      ]
     },
     "execution_count": 75,
     "metadata": {},
     "output_type": "execute_result"
    }
   ],
   "source": [
    "def nested_even_sum(obj):\n",
    "    total = 0\n",
    "    for key, value in obj.items():\n",
    "        if type(value) == int:\n",
    "            total = total + value if value % 2 == 0 else total\n",
    "        elif type(value) == dict:\n",
    "            total += nested_even_sum(obj[key])\n",
    "            \n",
    "    return total\n",
    "\n",
    "\n",
    "obj = {\n",
    "    \"outer\": 2,\n",
    "    \"obj\": {\n",
    "        \"inner\": 2,\n",
    "        \"other_obj\": {\n",
    "            \"supper_inner\": 2,\n",
    "            \"not_a_number\": True,\n",
    "            \"also_not_a_number\": \"yup\",\n",
    "        }\n",
    "    }\n",
    "}\n",
    "\n",
    "nested_even_sum(obj)"
   ]
  },
  {
   "cell_type": "code",
   "execution_count": 94,
   "id": "99e89a08",
   "metadata": {},
   "outputs": [
    {
     "data": {
      "text/plain": [
       "{'outer': '2',\n",
       " 'obj': {'inner': '2',\n",
       "  'other_obj': {'supper_inner': '2',\n",
       "   'not_a_number': True,\n",
       "   'also_not_a_number': 'yup'}}}"
      ]
     },
     "execution_count": 94,
     "metadata": {},
     "output_type": "execute_result"
    }
   ],
   "source": [
    "def stringify_numbers(obj):\n",
    "    for key, value in obj.items():\n",
    "        if type(value) == int:\n",
    "            obj[key] = str(value)\n",
    "        elif type(value) == dict:\n",
    "            obj[key] = stringify_numbers(obj[key])\n",
    "            \n",
    "    return obj\n",
    "\n",
    "obj = {\n",
    "    \"outer\": 2,\n",
    "    \"obj\": {\n",
    "        \"inner\": 2,\n",
    "        \"other_obj\": {\n",
    "            \"supper_inner\": 2,\n",
    "            \"not_a_number\": True,\n",
    "            \"also_not_a_number\": \"yup\",\n",
    "        }\n",
    "    }\n",
    "}\n",
    "\n",
    "stringify_numbers(obj)"
   ]
  },
  {
   "cell_type": "code",
   "execution_count": 97,
   "id": "d16401d0",
   "metadata": {},
   "outputs": [
    {
     "data": {
      "text/plain": [
       "['foo', 'bar', 'baz']"
      ]
     },
     "execution_count": 97,
     "metadata": {},
     "output_type": "execute_result"
    }
   ],
   "source": [
    "def collect_strings(obj):\n",
    "    arr = []\n",
    "    for value in obj.values():\n",
    "        if type(value) == str:\n",
    "            arr.append(value)\n",
    "        elif type(value) == dict:\n",
    "            arr.extend(collect_strings(value))\n",
    "    return arr\n",
    "\n",
    "obj = {\n",
    "    'stuff': 'foo',\n",
    "    'data': {\n",
    "        'val': {\n",
    "            'thing': {\n",
    "                'info': 'bar',\n",
    "                'moreInfo': {\n",
    "                    'evenMoreInfo': {\n",
    "                        'weMadeIt': 'baz',\n",
    "                    }\n",
    "                }\n",
    "            }\n",
    "        }\n",
    "    }\n",
    "}\n",
    "\n",
    "collect_strings(obj)"
   ]
  },
  {
   "cell_type": "code",
   "execution_count": null,
   "id": "da07723f",
   "metadata": {},
   "outputs": [],
   "source": []
  }
 ],
 "metadata": {
  "kernelspec": {
   "display_name": "Python 3 (ipykernel)",
   "language": "python",
   "name": "python3"
  },
  "language_info": {
   "codemirror_mode": {
    "name": "ipython",
    "version": 3
   },
   "file_extension": ".py",
   "mimetype": "text/x-python",
   "name": "python",
   "nbconvert_exporter": "python",
   "pygments_lexer": "ipython3",
   "version": "3.10.5"
  }
 },
 "nbformat": 4,
 "nbformat_minor": 5
}
