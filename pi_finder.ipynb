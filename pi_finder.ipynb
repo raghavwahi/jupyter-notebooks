{
 "cells": [
  {
   "cell_type": "code",
   "execution_count": 59,
   "id": "95721f6f",
   "metadata": {},
   "outputs": [],
   "source": [
    "import random\n",
    "\n",
    "def points(count=100):\n",
    "    inside = 0\n",
    "    for _ in range(count):\n",
    "        x = random.uniform(0,1)\n",
    "        y = random.uniform(0,1)\n",
    "        if ((x - 0.5)**2 + (y - 0.5)**2) < 0.5**2:\n",
    "            inside += 1\n",
    "    return inside* 4 / count"
   ]
  },
  {
   "cell_type": "code",
   "execution_count": 66,
   "id": "6c31121b",
   "metadata": {},
   "outputs": [
    {
     "name": "stdout",
     "output_type": "stream",
     "text": [
      "3.1443840000000907\n"
     ]
    }
   ],
   "source": [
    "a = [points() for x in range(10000)]\n",
    "print(sum(a) / len(a))"
   ]
  },
  {
   "cell_type": "code",
   "execution_count": 63,
   "id": "a75ce455",
   "metadata": {},
   "outputs": [],
   "source": []
  },
  {
   "cell_type": "code",
   "execution_count": null,
   "id": "04de5985",
   "metadata": {},
   "outputs": [],
   "source": []
  }
 ],
 "metadata": {
  "kernelspec": {
   "display_name": "Python 3 (ipykernel)",
   "language": "python",
   "name": "python3"
  },
  "language_info": {
   "codemirror_mode": {
    "name": "ipython",
    "version": 3
   },
   "file_extension": ".py",
   "mimetype": "text/x-python",
   "name": "python",
   "nbconvert_exporter": "python",
   "pygments_lexer": "ipython3",
   "version": "3.10.5"
  }
 },
 "nbformat": 4,
 "nbformat_minor": 5
}
