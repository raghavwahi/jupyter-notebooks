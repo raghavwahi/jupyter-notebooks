{
 "cells": [
  {
   "cell_type": "code",
   "execution_count": 24,
   "id": "ad591fae",
   "metadata": {},
   "outputs": [
    {
     "name": "stdout",
     "output_type": "stream",
     "text": [
      "Probability is: 0.3076\n"
     ]
    }
   ],
   "source": [
    "import random\n",
    "\n",
    "# Check Probility\n",
    "prisoners_status = []\n",
    "\n",
    "for i in range(10000):\n",
    "    prisoners = [x for x in range(1, 101)]\n",
    "\n",
    "    prisoner_in_boxes = [x for x in range(1, 101)]\n",
    "    random.shuffle(prisoner_in_boxes)  # Shuffling the prisoners\n",
    "\n",
    "    boxes = [x for x in range(1, 101)]\n",
    "\n",
    "    boxed_prisoner_pair = {}\n",
    "\n",
    "    for index, box in enumerate(boxes):\n",
    "        boxed_prisoner_pair[box] = prisoner_in_boxes[index]\n",
    "\n",
    "\n",
    "\n",
    "    prisoners_able_to_find = []\n",
    "\n",
    "    for prisoner in prisoners:\n",
    "        # Prisoner will check the box of his number\n",
    "        box_to_check = prisoner\n",
    "        counter = 1\n",
    "\n",
    "        while True:\n",
    "            if counter == 51:\n",
    "                prisoners_able_to_find.append(0)\n",
    "                break\n",
    "\n",
    "            if prisoner != boxed_prisoner_pair[box_to_check]:\n",
    "                box_to_check = boxed_prisoner_pair[box_to_check]\n",
    "            else:\n",
    "                prisoners_able_to_find.append(1)\n",
    "                break\n",
    "\n",
    "            counter += 1\n",
    "\n",
    "    if 0 in prisoners_able_to_find:\n",
    "        prisoners_status.append(0)\n",
    "    else:\n",
    "        prisoners_status.append(1)\n",
    "        \n",
    "print(f'Probability is: {sum(prisoners_status) / len(prisoners_status)}')"
   ]
  },
  {
   "cell_type": "code",
   "execution_count": null,
   "id": "a6cd099c",
   "metadata": {},
   "outputs": [],
   "source": []
  }
 ],
 "metadata": {
  "kernelspec": {
   "display_name": "Python 3 (ipykernel)",
   "language": "python",
   "name": "python3"
  },
  "language_info": {
   "codemirror_mode": {
    "name": "ipython",
    "version": 3
   },
   "file_extension": ".py",
   "mimetype": "text/x-python",
   "name": "python",
   "nbconvert_exporter": "python",
   "pygments_lexer": "ipython3",
   "version": "3.10.5"
  }
 },
 "nbformat": 4,
 "nbformat_minor": 5
}
