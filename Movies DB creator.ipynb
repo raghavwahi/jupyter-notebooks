{
 "cells": [
  {
   "cell_type": "code",
   "execution_count": 74,
   "id": "78c7a85c",
   "metadata": {},
   "outputs": [],
   "source": [
    "import pandas as pd\n",
    "import uuid\n",
    "import json"
   ]
  },
  {
   "cell_type": "code",
   "execution_count": 64,
   "id": "cd7d56bf",
   "metadata": {},
   "outputs": [],
   "source": [
    "df = pd.read_csv('movies.csv')"
   ]
  },
  {
   "cell_type": "code",
   "execution_count": 65,
   "id": "35df35ae",
   "metadata": {},
   "outputs": [],
   "source": [
    "required_columns = [\"Series_Title\", \"IMDB_Rating\", \"Poster_Link\", \"Genre\"]\n",
    "records = df[required_columns].to_dict(orient='records')"
   ]
  },
  {
   "cell_type": "code",
   "execution_count": 66,
   "id": "71157b41",
   "metadata": {},
   "outputs": [],
   "source": [
    "updated_records = []\n",
    "for record in records:\n",
    "    temp_dict = {\n",
    "        \"_id\": uuid.uuid4().hex,\n",
    "        \"name\": record[\"Series_Title\"],\n",
    "        \"language\": \"ENGLISH\",\n",
    "        \"type\": record[\"Genre\"].replace(\",\", \"\"),\n",
    "        \"rate\": int(round(record[\"IMDB_Rating\"] / 2, 0)),\n",
    "        \"imageUrl\": record[\"Poster_Link\"],\n",
    "    }\n",
    "    updated_records.append(temp_dict)"
   ]
  },
  {
   "cell_type": "code",
   "execution_count": 77,
   "id": "e1cad772",
   "metadata": {},
   "outputs": [],
   "source": [
    "latest = updated_records[:20]\n",
    "upcoming = updated_records[20:40]\n",
    "events = updated_records[40:60]\n",
    "\n",
    "with open(\"db.json\", \"w\") as f:\n",
    "    json.dump({\n",
    "        \"latest\": latest,\n",
    "        \"upcomingMovies\": upcoming,\n",
    "        \"events\": events,\n",
    "    }, f, indent=4)"
   ]
  },
  {
   "cell_type": "code",
   "execution_count": null,
   "id": "970cfdb8",
   "metadata": {},
   "outputs": [],
   "source": []
  }
 ],
 "metadata": {
  "kernelspec": {
   "display_name": "Python 3 (ipykernel)",
   "language": "python",
   "name": "python3"
  },
  "language_info": {
   "codemirror_mode": {
    "name": "ipython",
    "version": 3
   },
   "file_extension": ".py",
   "mimetype": "text/x-python",
   "name": "python",
   "nbconvert_exporter": "python",
   "pygments_lexer": "ipython3",
   "version": "3.10.5"
  }
 },
 "nbformat": 4,
 "nbformat_minor": 5
}
